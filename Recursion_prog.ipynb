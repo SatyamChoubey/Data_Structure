{
 "cells": [
  {
   "cell_type": "code",
   "execution_count": 2,
   "metadata": {},
   "outputs": [
    {
     "name": "stdout",
     "output_type": "stream",
     "text": [
      "Enter first number = 4\n",
      "Enter second number = 6\n",
      "Greatest common divisor of 4 and 6 is =  2\n"
     ]
    }
   ],
   "source": [
    "# Greatest common divisor with Recursion\n",
    "\n",
    "def GCD(a,b):\n",
    "    if(a==b):\n",
    "        return a\n",
    "    elif(a%b ==0):\n",
    "        return b\n",
    "    elif(b%a == 0):\n",
    "        return a\n",
    "    elif(a>b):\n",
    "        return GCD(a%b,b)\n",
    "    else:\n",
    "        return GCD(a,b%a)\n",
    "\n",
    "a = int(input(\"Enter first number = \"))\n",
    "b = int(input(\"Enter second number = \")) \n",
    "print(\"Greatest common divisor of\",a,'and',b,'is = ', GCD(a,b))"
   ]
  },
  {
   "cell_type": "code",
   "execution_count": 31,
   "metadata": {},
   "outputs": [
    {
     "name": "stdout",
     "output_type": "stream",
     "text": [
      "Enter the term = 1\n",
      "The fibonacci value of given 1 term is =  1\n",
      "\n",
      "The fibonacci series upto term n is : \n",
      "0 1 "
     ]
    }
   ],
   "source": [
    "# Fibonacci Series with Recursion\n",
    "\n",
    "def fib(n):\n",
    "    if(n==1 or n==2):\n",
    "        return 1\n",
    "    else:\n",
    "        return (fib(n-1) + fib(n-2))\n",
    "    \n",
    "n = int(input(\"Enter the term = \"))\n",
    "print('The fibonacci value of given',n,'term is = ',fib(n))\n",
    "\n",
    "print('\\nThe fibonacci series upto term n is : ')\n",
    "f = 0\n",
    "s = 1\n",
    "if(a<=0):\n",
    "    print('The series is: ',f)\n",
    "else:\n",
    "    print(f,s,end = ' ')\n",
    "    for i in range(1,n):\n",
    "        next = f+s\n",
    "        print(next, end = ' ')\n",
    "        f = s\n",
    "        s = next\n",
    "    "
   ]
  },
  {
   "cell_type": "code",
   "execution_count": 35,
   "metadata": {},
   "outputs": [
    {
     "name": "stdout",
     "output_type": "stream",
     "text": [
      "Enter the natural number = 9\n",
      "The sum upto natural number 9 is =  45\n"
     ]
    }
   ],
   "source": [
    "# find sum of 'n' natural numbers using Recursion\n",
    "\n",
    "def sum_nat(n):\n",
    "    if(n == 1):\n",
    "        return n\n",
    "    else:\n",
    "        s = n + sum_nat(n-1)\n",
    "        return s\n",
    "    \n",
    "n = int(input(\"Enter the natural number = \"))\n",
    "print(\"The sum upto natural number\",n,'is = ',sum_nat(n))"
   ]
  },
  {
   "cell_type": "code",
   "execution_count": 51,
   "metadata": {},
   "outputs": [
    {
     "name": "stdout",
     "output_type": "stream",
     "text": [
      "Enter the no. of disks present in source = 3\n",
      "Move disk 1 from rod A to rod C\n",
      "Move disk 2 from rod A to rod B\n",
      "Move disk 1 from rod C to rod B\n",
      "Move disk 3 from rod A to rod C\n",
      "Move disk 1 from rod B to rod A\n",
      "Move disk 2 from rod B to rod C\n",
      "Move disk 1 from rod A to rod C\n"
     ]
    }
   ],
   "source": [
    "# Tower of Hanoi using Recursion\n",
    "\n",
    "def Hanoi_Tower(n, source, destination, auxiliary):\n",
    "    if(n==1):\n",
    "        print(\"Move disk 1 from rod\",source,\"to rod\",destination)\n",
    "        return\n",
    "    Hanoi_Tower(n-1, source, auxiliary, destination)\n",
    "    print(\"Move disk\",n,\"from rod\",source,\"to rod\",destination)\n",
    "    Hanoi_Tower(n-1, auxiliary, destination, source)\n",
    "\n",
    "n = int(input(\"Enter the no. of disks present in source = \"))\n",
    "Hanoi_Tower(n,'A','C','B')\n"
   ]
  },
  {
   "cell_type": "code",
   "execution_count": 53,
   "metadata": {},
   "outputs": [
    {
     "name": "stdout",
     "output_type": "stream",
     "text": [
      "Enter the number : 6\n",
      "The factorial of given number is  =  720\n"
     ]
    }
   ],
   "source": [
    "# factorial with Recursion\n",
    "def fact(n):\n",
    "    if(n>0):\n",
    "        return n*fact(n-1)\n",
    "    else:\n",
    "        return(1)\n",
    "    \n",
    "n = int(input(\"Enter the number : \"))\n",
    "print(\"The factorial of given number is  = \",fact(n))"
   ]
  },
  {
   "cell_type": "code",
   "execution_count": 61,
   "metadata": {},
   "outputs": [
    {
     "name": "stdout",
     "output_type": "stream",
     "text": [
      "['ABC', 'ACB', 'BAC', 'BCA', 'CAB', 'CBA']\n"
     ]
    }
   ],
   "source": [
    "# printing all permutation of a string using in-built function\n",
    "  \n",
    "from itertools import permutations      # By using in-built function\n",
    "print([''.join(p) for p in permutations('ABC')])  # need to iterate over the function call and join the tuples.\n"
   ]
  },
  {
   "cell_type": "code",
   "execution_count": 69,
   "metadata": {},
   "outputs": [
    {
     "data": {
      "text/plain": [
       "'ABC'"
      ]
     },
     "execution_count": 69,
     "metadata": {},
     "output_type": "execute_result"
    }
   ],
   "source": [
    "def toString(List): \n",
    "    return ''.join(List) \n",
    "toString(('A','B','C'))"
   ]
  },
  {
   "cell_type": "code",
   "execution_count": 71,
   "metadata": {},
   "outputs": [
    {
     "name": "stdout",
     "output_type": "stream",
     "text": [
      "ABC\n",
      "ACB\n",
      "BAC\n",
      "BCA\n",
      "CBA\n",
      "CAB\n"
     ]
    }
   ],
   "source": [
    "# printing all permutation of a string\n",
    "\n",
    "def toString(List): \n",
    "    return ''.join(List) \n",
    "\n",
    "# Function to print permutations of string \n",
    "# This function takes three parameters: \n",
    "# 1. String = a \n",
    "# 2. Starting index of the string = l\n",
    "# 3. Ending index of the string = r \n",
    "def permutation(a, l, r): \n",
    "    if(l == r): \n",
    "        print(toString(a)) \n",
    "    else: \n",
    "        for i in range(l, r + 1): \n",
    "            a[l], a[i] = a[i], a[l]  # swap\n",
    "            permutation(a, l + 1, r)     # recursion\n",
    "            a[l], a[i] = a[i], a[l]  # backtracking \n",
    "\n",
    "# Driver program to test the above function \n",
    "string = \"ABC\"\n",
    "n = len(string) \n",
    "a = list(string) \n",
    "permutation(a, 0, n-1) \n"
   ]
  },
  {
   "cell_type": "code",
   "execution_count": 83,
   "metadata": {},
   "outputs": [
    {
     "name": "stdout",
     "output_type": "stream",
     "text": [
      "Enter value of n = 3\n",
      "0 0 0 \n",
      "0 0 1 \n",
      "0 1 0 \n",
      "0 1 1 \n",
      "1 0 0 \n",
      "1 0 1 \n",
      "1 1 0 \n",
      "1 1 1 \n"
     ]
    }
   ],
   "source": [
    "# printing all possible binary string of 'n' length : generate all the binary string of n bits length\n",
    "\n",
    "\n",
    "# Function to print the output \n",
    "def printTheArray(arr, n): \n",
    "\n",
    "\tfor i in range(0, n): \n",
    "\t\tprint(arr[i], end = \" \") \n",
    "\t\n",
    "\tprint() \n",
    "\n",
    "# Function to generate all binary strings \n",
    "def generateAllBinaryStrings(n, arr, i): \n",
    "\n",
    "\tif i == n: \n",
    "\t\tprintTheArray(arr, n) \n",
    "\t\treturn\n",
    "\t\n",
    "\t# First assign \"0\" at ith position \n",
    "\t# and try for all other permutations \n",
    "\t# for remaining positions \n",
    "\tarr[i] = 0\n",
    "\tgenerateAllBinaryStrings(n, arr, i + 1) \n",
    "\n",
    "\t# And then assign \"1\" at ith position \n",
    "\t# and try for all other permutations \n",
    "\t# for remaining positions \n",
    "\tarr[i] = 1\n",
    "\tgenerateAllBinaryStrings(n, arr, i + 1) \n",
    "\n",
    "# Driver Code \n",
    "if __name__ == \"__main__\": \n",
    "\n",
    "\tn = int(input(\"Enter value of n = \"))\n",
    "\tarr = [None] * n \n",
    "\n",
    "\t# Print all binary strings \n",
    "\tgenerateAllBinaryStrings(n, arr, 0) \n",
    "\n",
    "\n"
   ]
  },
  {
   "cell_type": "code",
   "execution_count": null,
   "metadata": {},
   "outputs": [],
   "source": []
  }
 ],
 "metadata": {
  "kernelspec": {
   "display_name": "Python 3",
   "language": "python",
   "name": "python3"
  },
  "language_info": {
   "codemirror_mode": {
    "name": "ipython",
    "version": 3
   },
   "file_extension": ".py",
   "mimetype": "text/x-python",
   "name": "python",
   "nbconvert_exporter": "python",
   "pygments_lexer": "ipython3",
   "version": "3.8.3"
  }
 },
 "nbformat": 4,
 "nbformat_minor": 4
}
