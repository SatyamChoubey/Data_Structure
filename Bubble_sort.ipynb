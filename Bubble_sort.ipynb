{
 "cells": [
  {
   "cell_type": "code",
   "execution_count": 51,
   "metadata": {},
   "outputs": [
    {
     "name": "stdout",
     "output_type": "stream",
     "text": [
      "enter the list size: 3\n",
      "\n",
      "\n",
      "Enter number at location 0 :\n",
      "12\n",
      "Enter number at location 1 :\n",
      "24\n",
      "Enter number at location 2 :\n",
      "36\n",
      "\n",
      "User list is:  [12, 24, 36]\n",
      "\n",
      "Sorted Array is:\n",
      " [12, 24, 36]\n",
      "---9.66275954246521 seconds---\n"
     ]
    }
   ],
   "source": [
    "# Bubble sort : Time complexity is O(n*n)\n",
    "\n",
    "import time\n",
    "start_time = time.time()    # start time\n",
    "\n",
    "User_list = []   # create an empty list and name it User_list\n",
    "n = int((input(\"enter the list size: \")))   # list size\n",
    "\n",
    "print(\"\\n\")\n",
    "for i in range(n):\n",
    "    print(\"Enter number at location\",i,\":\")\n",
    "    item = int(input())\n",
    "    User_list.append(item)     # take list elements from the user\n",
    "    \n",
    "print(\"\\nUser list is: \",User_list)\n",
    "\n",
    "\n",
    "N=0\n",
    "for i in range(0,len(User_list)):\n",
    "    N = N+1     # Take N as no. of elements\n",
    "\n",
    "# Algorithm of Bubble_sort\n",
    "def Bubble_sort(User_list):\n",
    "    for round in range(1,N-1+1):      # Take +1 bcoz it takes one less value in range.    \n",
    "        for i in range(0,N-1-round+1):\n",
    "            if(User_list[i]>User_list[i+1]):    # swap it\n",
    "               temp=User_list[i]\n",
    "               User_list[i]=User_list[i+1]\n",
    "               User_list[i+1]=temp\n",
    "    print(\"\\nSorted Array is:\\n\",User_list)\n",
    "\n",
    "Bubble_sort(User_list)   # call the function\n",
    "        \n",
    "print(\"---%s seconds---\" % (time.time()-start_time))"
   ]
  },
  {
   "cell_type": "code",
   "execution_count": 52,
   "metadata": {},
   "outputs": [
    {
     "name": "stdout",
     "output_type": "stream",
     "text": [
      "enter the list size: 3\n",
      "\n",
      "\n",
      "Enter number at location 0 :\n",
      "12\n",
      "Enter number at location 1 :\n",
      "24\n",
      "Enter number at location 2 :\n",
      "36\n",
      "\n",
      "User list is:  [12, 24, 36]\n",
      "Round is: 1\n",
      "\n",
      "Sorted Array is:\n",
      " [12, 24, 36]\n",
      "--- 5.120381116867065 seconds ---\n"
     ]
    }
   ],
   "source": [
    "# Modified Bubble sort : Time complexity is O(n).\n",
    "# If data is sorted in some round then no need to do comparisons.\n",
    "\n",
    "import time\n",
    "start_time = time.time()\n",
    "\n",
    "User_list = []   # create an empty list and name it User_list\n",
    "n = int((input(\"enter the list size: \")))   # list size\n",
    "\n",
    "print(\"\\n\")\n",
    "for i in range(n):\n",
    "    print(\"Enter number at location\",i,\":\")\n",
    "    item = int(input())\n",
    "    User_list.append(item)     # take list elements from the user\n",
    "    \n",
    "print(\"\\nUser list is: \",User_list)\n",
    "\n",
    "\n",
    "N=0\n",
    "for i in range(0,len(User_list)):\n",
    "    N = N+1     # Take N as no. of elements\n",
    "\n",
    "# Algorithm of Bubble_sort\n",
    "def Bubble_sort(User_list):\n",
    "    for round in range(1,N-1+1):   # Take +1 bcoz it takes one less value in range. \n",
    "        \n",
    "        flag = 0      # Assign this if flag = 1 then swapping happen but if flag=0 then no swapping and then return\n",
    "        \n",
    "        for i in range(0,N-1-round+1):\n",
    "             if(User_list[i]>User_list[i+1]):    # swap it\n",
    "               flag = 1   # if swapping happen\n",
    "            \n",
    "               temp=User_list[i]\n",
    "               User_list[i]=User_list[i+1]\n",
    "               User_list[i+1]=temp\n",
    "                \n",
    "        if(flag == 0):\n",
    "            print(\"Round is:\",round)\n",
    "            break\n",
    "            \n",
    "    print(\"\\nSorted Array is:\\n\",User_list)\n",
    "\n",
    "Bubble_sort(User_list)   # call the function\n",
    "\n",
    "print(\"--- %s seconds ---\" % (time.time() - start_time))"
   ]
  },
  {
   "cell_type": "code",
   "execution_count": 48,
   "metadata": {},
   "outputs": [
    {
     "name": "stdout",
     "output_type": "stream",
     "text": [
      "--- 6.508827209472656e-05 seconds ---\n"
     ]
    }
   ],
   "source": [
    "# code to check the time for execution of code\n",
    "import time\n",
    "start_time = time.time()\n",
    "\n",
    "print(\"--- %s seconds ---\" % (time.time() - start_time))\n"
   ]
  },
  {
   "cell_type": "code",
   "execution_count": null,
   "metadata": {},
   "outputs": [],
   "source": []
  }
 ],
 "metadata": {
  "kernelspec": {
   "display_name": "Python 3",
   "language": "python",
   "name": "python3"
  },
  "language_info": {
   "codemirror_mode": {
    "name": "ipython",
    "version": 3
   },
   "file_extension": ".py",
   "mimetype": "text/x-python",
   "name": "python",
   "nbconvert_exporter": "python",
   "pygments_lexer": "ipython3",
   "version": "3.8.3"
  }
 },
 "nbformat": 4,
 "nbformat_minor": 4
}
