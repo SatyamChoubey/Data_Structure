{
 "cells": [
  {
   "cell_type": "code",
   "execution_count": 17,
   "metadata": {},
   "outputs": [],
   "source": [
    "### Linear Search\n",
    "\n",
    "def seq_search(arr,ITEM):\n",
    "    flag=1\n",
    "    for i in range(len(arr)):\n",
    "        if arr[i] == ITEM:\n",
    "            flag=0\n",
    "            print(\"Search Successful\")\n",
    "    if(flag==1):\n",
    "        print(\"Search Unsuccessful\")"
   ]
  },
  {
   "cell_type": "code",
   "execution_count": 20,
   "metadata": {},
   "outputs": [
    {
     "name": "stdout",
     "output_type": "stream",
     "text": [
      "Search Successful\n"
     ]
    }
   ],
   "source": [
    "arr = [10,20,55,66,77,88,99,45,85]\n",
    "seq_search(arr,55)"
   ]
  },
  {
   "cell_type": "code",
   "execution_count": 21,
   "metadata": {},
   "outputs": [
    {
     "name": "stdout",
     "output_type": "stream",
     "text": [
      "Search Unsuccessful\n"
     ]
    }
   ],
   "source": [
    "seq_search(arr,150)"
   ]
  },
  {
   "cell_type": "code",
   "execution_count": null,
   "metadata": {},
   "outputs": [],
   "source": []
  }
 ],
 "metadata": {
  "kernelspec": {
   "display_name": "Python 3",
   "language": "python",
   "name": "python3"
  },
  "language_info": {
   "codemirror_mode": {
    "name": "ipython",
    "version": 3
   },
   "file_extension": ".py",
   "mimetype": "text/x-python",
   "name": "python",
   "nbconvert_exporter": "python",
   "pygments_lexer": "ipython3",
   "version": "3.8.3"
  }
 },
 "nbformat": 4,
 "nbformat_minor": 4
}
